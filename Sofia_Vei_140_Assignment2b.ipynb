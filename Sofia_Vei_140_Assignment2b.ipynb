{
  "nbformat": 4,
  "nbformat_minor": 0,
  "metadata": {
    "colab": {
      "provenance": []
    },
    "kernelspec": {
      "name": "python3",
      "display_name": "Python 3"
    },
    "language_info": {
      "name": "python"
    }
  },
  "cells": [
    {
      "cell_type": "markdown",
      "source": [
        "Note: For this code the only datasets needed from DeliciousMIL are: train-data.dat, test-data.dat, train-label.dat, test-label.dat.\n",
        "\n"
      ],
      "metadata": {
        "id": "qjF-GnP19e0w"
      }
    },
    {
      "cell_type": "markdown",
      "source": [
        "# 1"
      ],
      "metadata": {
        "id": "3dM0CyVK-shM"
      }
    },
    {
      "cell_type": "code",
      "source": [
        "# !pip install pyclustering\n",
        "# !pip install scikit-learn-extra"
      ],
      "metadata": {
        "id": "yeiIG_eZ9HJR"
      },
      "execution_count": null,
      "outputs": []
    },
    {
      "cell_type": "markdown",
      "source": [
        "## Import necessary libraries"
      ],
      "metadata": {
        "id": "ze6dJrWZ-9Pc"
      }
    },
    {
      "cell_type": "code",
      "source": [
        "from sklearn.cluster import KMeans\n",
        "from sklearn.metrics import silhouette_score, silhouette_samples\n",
        "import matplotlib.pyplot as plt"
      ],
      "metadata": {
        "id": "tZfmbYGCaGEE"
      },
      "execution_count": null,
      "outputs": []
    },
    {
      "cell_type": "code",
      "source": [
        "import re\n",
        "import itertools\n",
        "from sklearn.feature_extraction.text import TfidfVectorizer\n",
        "from sklearn.cluster import KMeans\n",
        "from sklearn.naive_bayes import GaussianNB\n",
        "from sklearn.metrics import classification_report, f1_score\n",
        "import pickle\n",
        "import numpy as np\n"
      ],
      "metadata": {
        "id": "3oTJTTMHXyLS"
      },
      "execution_count": null,
      "outputs": []
    },
    {
      "cell_type": "markdown",
      "source": [
        "## Load data"
      ],
      "metadata": {
        "id": "XDiKaKMG_AV8"
      }
    },
    {
      "cell_type": "code",
      "source": [
        "with open('train-data.dat', 'r') as f:\n",
        "    train_lines = f.readlines()\n",
        "with open('test-data.dat', 'r') as f:\n",
        "    test_lines = f.readlines()"
      ],
      "metadata": {
        "id": "PGLSpf-EDy7-"
      },
      "execution_count": null,
      "outputs": []
    },
    {
      "cell_type": "code",
      "source": [
        "train_data, test_data = dict(), dict()\n",
        "n = 0\n",
        "for line in train_lines:\n",
        "    train_data[n] = line.split()[2:]\n",
        "    n += 1\n",
        "n = 0\n",
        "for line in test_lines:\n",
        "    test_data[n] = line.split()[2:]\n",
        "    n += 1"
      ],
      "metadata": {
        "id": "tGzU-5KbQVma"
      },
      "execution_count": null,
      "outputs": []
    },
    {
      "cell_type": "markdown",
      "source": [
        "## Preprocessing"
      ],
      "metadata": {
        "id": "wk-K8Gtx_YJ1"
      }
    },
    {
      "cell_type": "code",
      "source": [
        "import re\n",
        "import itertools\n",
        "\n",
        "def split_sentences(document):\n",
        "    sentences = re.findall(r\"<\\d+> (.+?) <\\d+>\", document)\n",
        "    return sentences\n",
        "\n",
        "train_docs, test_docs, train_bag_len, test_bag_len, train_labels, test_labels = [], [], [], [], [], []\n",
        "for train_key, train_value in train_data.items():\n",
        "    train_text_doc = ' '.join(train_value)\n",
        "    train_docs.append(split_sentences(train_text_doc))\n",
        "    train_bag_len.append(len(train_docs[train_key])) \n",
        "    train_labels.append(train_data[train_key])\n",
        "for test_key, test_value in test_data.items():\n",
        "    test_text_doc = ' '.join(test_value)\n",
        "    test_docs.append(split_sentences(test_text_doc))\n",
        "    test_bag_len.append(len(test_docs[test_key]))\n",
        "    test_labels.append(test_data[test_key])\n",
        "train_labels = np.array(train_labels)\n",
        "train_labels = train_labels.astype(int)\n",
        "test_labels = np.array(test_labels)\n",
        "test_labels = test_labels.astype(int)\n",
        "\n",
        "# Create two lists of all sentences for the train/test set\n",
        "train_sentences = list(itertools.chain.from_iterable(train_docs))\n",
        "test_sentences = list(itertools.chain.from_iterable(test_docs))"
      ],
      "metadata": {
        "id": "4v1jnWfsXvMR"
      },
      "execution_count": null,
      "outputs": []
    },
    {
      "cell_type": "markdown",
      "source": [
        "# Keep the most popular labels"
      ],
      "metadata": {
        "id": "--wG3Xxm80Jo"
      }
    },
    {
      "cell_type": "code",
      "source": [
        "column_sums = np.sum(train_labels, axis=0)\n",
        "most_pop_column = np.argmax(column_sums)\n",
        "\n",
        "# Keep only the column with the highest sum\n",
        "y_train = train_labels[:, most_pop_column]\n",
        "y_test = test_labels[:, most_pop_column]"
      ],
      "metadata": {
        "id": "BDB__zC_X5kI"
      },
      "execution_count": null,
      "outputs": []
    },
    {
      "cell_type": "markdown",
      "source": [
        "## Vectorization"
      ],
      "metadata": {
        "id": "SeG_b8gEAZVC"
      }
    },
    {
      "cell_type": "code",
      "source": [
        "def vectorization(trains, tests, min_df):\n",
        "    from sklearn.feature_extraction.text import TfidfVectorizer\n",
        "\n",
        "    vectorizer = TfidfVectorizer(min_df=min_df)\n",
        "    x_train = vectorizer.fit_transform(trains)\n",
        "    x_train_m = x_train.toarray()\n",
        "    x_test = vectorizer.transform(tests)\n",
        "    x_test_m = x_test.toarray()\n",
        "\n",
        "    print(x_train_m.shape)\n",
        "    print(x_test_m.shape)\n",
        "\n",
        "    return x_train_m, x_test_m\n",
        "\n",
        "trains_vect, tests_vect = vectorization(train_sentences, test_sentences, min_df=0.02) #the smaller the df the better, later on we use 0.01"
      ],
      "metadata": {
        "id": "O-fA3eAOAbGm"
      },
      "execution_count": null,
      "outputs": []
    },
    {
      "cell_type": "markdown",
      "source": [
        "## Elbow Method (we also print the most suitable value for the clusters)"
      ],
      "metadata": {
        "id": "Xx07YoW--eBn"
      }
    },
    {
      "cell_type": "code",
      "source": [
        "import matplotlib.pyplot as plt\n",
        "distortions = []\n",
        "K = range(3, 303, 30)\n",
        "for k in K:\n",
        "    kmeans = KMeans(n_clusters=k)\n",
        "    kmeans.fit(trains_vect)\n",
        "    distortions.append(kmeans.inertia_)\n",
        "\n",
        "# Plot the elbow curve\n",
        "plt.plot(K, distortions, 'bx-')\n",
        "plt.xlabel('Number of clusters (K)')\n",
        "plt.ylabel('Distortion')\n",
        "plt.title('Elbow Method')\n",
        "plt.show()\n",
        "\n",
        "# Find the suitable number of clusters based on the elbow plot\n",
        "elbow_index = np.argmin(distortions)\n",
        "suitable_clusters = K[elbow_index]\n",
        "print(\"The suitable number of clusters (K) based on the elbow method:\", suitable_clusters)"
      ],
      "metadata": {
        "colab": {
          "base_uri": "https://localhost:8080/",
          "height": 856
        },
        "id": "ogoSrJbmZ2Kj",
        "outputId": "337c7b7d-51e7-4751-e567-1fc4d23f2eff"
      },
      "execution_count": null,
      "outputs": [
        {
          "output_type": "stream",
          "name": "stderr",
          "text": [
            "/usr/local/lib/python3.10/dist-packages/sklearn/cluster/_kmeans.py:870: FutureWarning: The default value of `n_init` will change from 10 to 'auto' in 1.4. Set the value of `n_init` explicitly to suppress the warning\n",
            "  warnings.warn(\n",
            "/usr/local/lib/python3.10/dist-packages/sklearn/cluster/_kmeans.py:870: FutureWarning: The default value of `n_init` will change from 10 to 'auto' in 1.4. Set the value of `n_init` explicitly to suppress the warning\n",
            "  warnings.warn(\n",
            "/usr/local/lib/python3.10/dist-packages/sklearn/cluster/_kmeans.py:870: FutureWarning: The default value of `n_init` will change from 10 to 'auto' in 1.4. Set the value of `n_init` explicitly to suppress the warning\n",
            "  warnings.warn(\n",
            "/usr/local/lib/python3.10/dist-packages/sklearn/cluster/_kmeans.py:870: FutureWarning: The default value of `n_init` will change from 10 to 'auto' in 1.4. Set the value of `n_init` explicitly to suppress the warning\n",
            "  warnings.warn(\n",
            "/usr/local/lib/python3.10/dist-packages/sklearn/cluster/_kmeans.py:870: FutureWarning: The default value of `n_init` will change from 10 to 'auto' in 1.4. Set the value of `n_init` explicitly to suppress the warning\n",
            "  warnings.warn(\n",
            "/usr/local/lib/python3.10/dist-packages/sklearn/cluster/_kmeans.py:870: FutureWarning: The default value of `n_init` will change from 10 to 'auto' in 1.4. Set the value of `n_init` explicitly to suppress the warning\n",
            "  warnings.warn(\n",
            "/usr/local/lib/python3.10/dist-packages/sklearn/cluster/_kmeans.py:870: FutureWarning: The default value of `n_init` will change from 10 to 'auto' in 1.4. Set the value of `n_init` explicitly to suppress the warning\n",
            "  warnings.warn(\n",
            "/usr/local/lib/python3.10/dist-packages/sklearn/cluster/_kmeans.py:870: FutureWarning: The default value of `n_init` will change from 10 to 'auto' in 1.4. Set the value of `n_init` explicitly to suppress the warning\n",
            "  warnings.warn(\n",
            "/usr/local/lib/python3.10/dist-packages/sklearn/cluster/_kmeans.py:870: FutureWarning: The default value of `n_init` will change from 10 to 'auto' in 1.4. Set the value of `n_init` explicitly to suppress the warning\n",
            "  warnings.warn(\n",
            "/usr/local/lib/python3.10/dist-packages/sklearn/cluster/_kmeans.py:870: FutureWarning: The default value of `n_init` will change from 10 to 'auto' in 1.4. Set the value of `n_init` explicitly to suppress the warning\n",
            "  warnings.warn(\n"
          ]
        },
        {
          "output_type": "display_data",
          "data": {
            "text/plain": [
              "<Figure size 640x480 with 1 Axes>"
            ],
            "image/png": "[encoded data removed]"
          },
          "metadata": {}
        },
        {
          "output_type": "stream",
          "name": "stdout",
          "text": [
            "The suitable number of clusters (K) based on the elbow method: 273\n"
          ]
        }
      ]
    },
    {
      "cell_type": "code",
      "source": [
        "# Perform K-means clustering\n",
        "k = 273 #suitable_clusters  # Specify the desired number of clusters\n",
        "kmeans = KMeans(n_clusters=k)\n",
        "kmeans.fit(trains_vect)\n",
        "\n",
        "# Get the cluster labels for test set\n",
        "test_kmeans_labels = kmeans.predict(tests_vect)\n",
        "\n",
        "# Save the cluster labels\n",
        "with open('labels.p', 'wb') as file:\n",
        "    pickle.dump(test_kmeans_labels, file)"
      ],
      "metadata": {
        "colab": {
          "base_uri": "https://localhost:8080/"
        },
        "id": "9GkBsXh9fKZf",
        "outputId": "3e409811-fd23-4b0b-a362-720a62da1452"
      },
      "execution_count": null,
      "outputs": [
        {
          "output_type": "stream",
          "name": "stderr",
          "text": [
            "/usr/local/lib/python3.10/dist-packages/sklearn/cluster/_kmeans.py:870: FutureWarning: The default value of `n_init` will change from 10 to 'auto' in 1.4. Set the value of `n_init` explicitly to suppress the warning\n",
            "  warnings.warn(\n"
          ]
        }
      ]
    },
    {
      "cell_type": "code",
      "source": [
        "# Get features for test set based on kmeans labels\n",
        "\n",
        "X_test = np.zeros((len(test_docs), 273))\n",
        "with open('labels.p', 'rb') as file:\n",
        "    test_kmeans_labels = pickle.load(file)\n",
        "te_kmeans_labels_lists = [] \n",
        "c = 0\n",
        "for length in test_bag_len:\n",
        "    te_kmeans_labels_lists.append(list(test_kmeans_labels[c:c + length]))\n",
        "    c += length\n",
        "for i in range(len(X_test)):\n",
        "    for j in range(len(te_kmeans_labels_lists[i])):\n",
        "        X_test[i, te_kmeans_labels_lists[i][j]] += 1  "
      ],
      "metadata": {
        "id": "eLIvsDewX_5p"
      },
      "execution_count": null,
      "outputs": []
    },
    {
      "cell_type": "code",
      "source": [
        "train_features = trains_vect \n",
        "test_features = tests_vect\n",
        "\n",
        "print(\"train_features shape:\", train_features.shape)\n",
        "print(\"train_labels_filtered shape:\", train_labels.shape)\n",
        "print(\"y_train shape:\", y_train.shape)\n",
        "\n",
        "label_indices = np.isin(y_train, [0, 1])\n",
        "train_features_filtered = train_features[label_indices]\n",
        "train_labels_filtered = train_labels[label_indices]\n",
        "\n",
        "print(\"train_features_filtered shape:\", train_features_filtered.shape)\n",
        "print(\"train_labels_filtered shape:\", train_labels_filtered.shape)\n",
        "\n",
        "# Train Gaussian Naive Bayes classifier\n",
        "clf = GaussianNB() #try with one first to get some insights\n",
        "clf.fit(train_features_filtered, train_labels_filtered)\n",
        "y_pred = clf.predict(test_features)\n",
        "\n",
        "# Evaluate the classifier\n",
        "print('Classifier: Gaussian NB')\n",
        "print('Classification Report:')\n",
        "print(classification_report(test_labels, y_pred))\n",
        "print('F1 Score:', f1_score(test_labels, y_pred))\n",
        "\n",
        "#error: remember to fix"
      ],
      "metadata": {
        "id": "xLmxMxa191zh"
      },
      "execution_count": null,
      "outputs": []
    },
    {
      "cell_type": "markdown",
      "source": [
        "# 2"
      ],
      "metadata": {
        "id": "Cc3PhVhZ-oFt"
      }
    },
    {
      "cell_type": "code",
      "source": [
        "import numpy as np\n",
        "from sklearn.naive_bayes import GaussianNB\n",
        "from sklearn.linear_model import LogisticRegression\n",
        "from sklearn.ensemble import RandomForestClassifier\n",
        "from sklearn.svm import SVC\n",
        "from sklearn.model_selection import GridSearchCV\n",
        "from sklearn.metrics import classification_report, f1_score\n",
        "from sklearn.preprocessing import StandardScaler\n",
        "from sklearn.preprocessing import MaxAbsScaler\n",
        "import re\n",
        "from sklearn.feature_extraction.text import CountVectorizer\n",
        "import pandas as pd\n",
        "import numpy as np\n",
        "from sklearn.model_selection import train_test_split\n",
        "import warnings\n",
        "warnings.filterwarnings(\"ignore\")"
      ],
      "metadata": {
        "id": "c2qr8VqjBOnp"
      },
      "execution_count": 1,
      "outputs": []
    },
    {
      "cell_type": "code",
      "source": [
        "with open('train-data.dat', 'r') as train_file:\n",
        "    train_data = train_file.readlines()\n",
        "\n",
        "with open('test-data.dat', 'r') as test_file:\n",
        "    test_data = test_file.readlines()\n"
      ],
      "metadata": {
        "id": "02A6Tx2xBRRN"
      },
      "execution_count": 5,
      "outputs": []
    },
    {
      "cell_type": "markdown",
      "source": [
        "## Preprocessing"
      ],
      "metadata": {
        "id": "uAn6Tyz3CR4G"
      }
    },
    {
      "cell_type": "code",
      "source": [
        "def preprocess_document(document):\n",
        "    # Remove special characters and convert to lowercase (lowercase also not needed, just in case)\n",
        "    document = re.sub(r'[^a-zA-Z0-9\\s<>]', '', document.lower())\n",
        "\n",
        "    # Split into sentences and words\n",
        "    sentences = document.split('\\n')\n",
        "    sentences = [sentence.strip() for sentence in sentences if sentence.strip()]\n",
        "\n",
        "    # Remove words and numbers enclosed in < and > symbols\n",
        "    preprocessed_sentences = []\n",
        "    for sentence in sentences:\n",
        "        words = sentence.split()\n",
        "        words = [word for word in words if not (word.startswith('<') and word.endswith('>'))]\n",
        "        preprocessed_sentences.append(' '.join(words))\n",
        "\n",
        "    # Wrap each line in single quotes\n",
        "    preprocessed_document = \"'\" + \"'\\n'\".join(preprocessed_sentences) + \"'\"\n",
        "\n",
        "    return preprocessed_document\n",
        "\n",
        "preprocessed_train_data = [preprocess_document(document) for document in train_data]\n",
        "preprocessed_test_data = [preprocess_document(document) for document in test_data]\n",
        "\n",
        "# Print the first 5 lines of preprocessed train-data\n",
        "print(\"Preprocessed train-data:\")\n",
        "for i in range(5):\n",
        "    print(preprocessed_train_data[i])\n",
        "    print()\n",
        "\n",
        "# Print the first 5 lines of preprocessed test-data\n",
        "print(\"Preprocessed test-data:\")\n",
        "for i in range(5):\n",
        "    print(preprocessed_test_data[i])\n",
        "    print()\n"
      ],
      "metadata": {
        "colab": {
          "base_uri": "https://localhost:8080/"
        },
        "id": "Xl3zo7tHBTxV",
        "outputId": "3b9b6646-bfc8-43db-f732-58b44bb806a7"
      },
      "execution_count": 6,
      "outputs": [
        {
          "output_type": "stream",
          "name": "stdout",
          "text": [
            "Preprocessed train-data:\n",
            "'6705 5997 8310 3606 674 8058 5044 4836 4312 5154 8310 4225'\n",
            "\n",
            "'1827 1037 8482 483 3567 6172 6172 2892 1362 787 399 777 1332 318 769 4621 3199 1480 6213 971 6890 5909 15 3445 2475 324 4138 3404 6176 65 2926 1375 7705 709 1323 1652 5735 7439 3445 2475 4396 4382 1798 1870 1845 4410 7758 4278 7775 318 769 2898 1923 8193 2930 485 5951 6123 2480 3158 2193 2438 7485 3412 5304 5644 3734 7459 1652 3174 8343 426 1968 7506 561 4051 2722 6717 6172 3432 7859 4595 2351 5951 135 7023 7215 7038 7221 560 4631 4411 1348 8185 5192 3445 2475 5696 5154 361 7953 4245 560 2351 4410 7758 2174 1120 6688 7705 2747 1296 1652 134 5909 7953 4245'\n",
            "\n",
            "'8482 787 2169 4077 6335 1137 1598 1055 1223 2735 3492 413 838 4457 8392 3631 3699 42 5217 4281 6309 2912 6629 1985 2781 2155 5217 8032 860 7998 1469 4077 682 5950 7654 1561 5217 137 4032 42 5217 29 365 5339 4081 4386 7654 679 5217 620 8197 679 8403 42 5217 2134 5427 980 550 316 762 5582 3148 6039 5217 7378 470 674 8197 1072 42 5217 4164 470 5208 7048 371 2602 2975 6690 1386 3303 1193 8197 6955 894 2839 42 7194 5217 135 4998 2797 470 470 3154 2651 94 1450 4176 5366 5217 1564 1657 3481 886 4462 660 2044 5217 1657 4688 4716 894 2839 1770 5339 2368 8424 674 5055 872 5217 4123 5506 3134 8151 2287 1851 8197 1357 4002 5217 163 771 4877 6954 2623 42 664 2468 1194 4013 5785 2155 5757 5217 7146 6103 7553 6610 1824 5623 2287 1566 2115 1072 1945 1366 7593 5339 5055 4021 5217 29 1386 8243 1072 6068 3988 2781 2155 5217 1386 1072 5217 1386 8243 2287 5217 4851 7654 6073 679 5217 965 2287 852 345 1085 1386 1450 1163 852 2781 4439 6 3424 3733 8115 4386 5217 5339 4049 2623 1194 3424 2287 5217 2912 2836 12 2623 1386 4312 1908 5217 2947 2623 5427 5217 1378 550 4711 6300 5604 1386 2287 6060 6901 1757 2729 8197 880 209 5793 1657'\n",
            "\n",
            "'3843 3843 5427 3355 3843 5154 7451 5101 681 5339 1910 1259 1921 3778 682 3375 1758 108 3681 1874'\n",
            "\n",
            "'5877 4688 5877 1137 343 4695 1145 125 679 5744 3481 5744 1145 125 679 674 343 2287 5744 679 574 5877 191 3492 219 4688 191 1137 5877 1054 674 6622 3930 2419 537 2419 5312 2419 406 1621 7659 3400 4621'\n",
            "\n",
            "Preprocessed test-data:\n",
            "'5282 4641 3031 536 5366 1759 4855 1037 7752 2287 1090 1921 6213 3292 5750 6068 5648 1444 6157 1574 6955 2287 3816 5553 568 6955 5523 2793 4312 2033 4217 7593 6955 965 7553 7464 2651 8283 1426 5741 4032 740 470 2413 4767 6629 4551 7859 1007 6629 945 7553 4551 6955 568 7981 4386 6166 539 8115 6183 7440 1137 6 1137 4386 6985 470 2151 7340 1779 4691 1499 4386 4691 8032 1193 6955 4124 4386 7553 126 7553 4086 6955 8235 539 4386 965 5598 1921 2904 852 4691 1137 874 323 4691 1574 482 2651 470 5427 6157 1783 6073 679 7752 3710 561 1072 126 4386 4844 5744 4790 679 9 188 327 764 3473 7281 327 8250 291 3885 674 4344 3804 42 2287 674 1620 2054 2054 4258 6544 5388 474 130 793 2054 4267 5238 3648 7004 2287 2385 6 561 1072 6700 1193 2287 8283 1193 1891 8283 3710 5388 3486 4032 188 3482 4959 6888 4319 2287 6888 421 5875 2985 3268 5663 2287 7553 1946 5663 777 3343 6888 4258 325 2866 2287 4846 1523 4634 2155 7553 903 5073 325 1709 2733 777 7275 1576 5073 325 903 903 325 1709 2733'\n",
            "\n",
            "'838 4060 2673 3204 5724 8518 6629 7752 6103 4755 782 315 2731 2651 384 4123 5909 5734 7034 2731 6103 4755 3191 4598 1868 3204 6559 3112 2123 568 5994 7168 4936 6715 6290 7123 4085 3031 3031 4402 3968 247 950 413 5724 419 3127 318 2651 950 1869 1770 3083 7439 1499 541 7959 6746 40 5655 482 2651 5313 1375 62 6623 1965 3968 5411 5302 439 7524 165 7752 4176 5486 135 1330 5924 6251 7828 2993 3199 1295 1281 4079 4731 3548 5080 814 1730 1542 1690 1564 6954 3518 3158 814 2222 4571 7746 6468 782 6735 1564 4193 6400 3195 965 674 2897 4851 989 3822 614 2244 1368 6473 3009 7469 4098 3495 6188 2248 5354 5919 6901 4974 1983 7294 920 1733 1332 3707 5277 3191 1426 6365 1194 3707 7118 4833 1223 4745 2623 3492 6365 434 256 5055 3375 3004 5209 1710 5238 7719 2988 3864 3979 7469 3558 2442 6193 7013 3864 8467 4178 3997 3415 3994 594 8377 5118 470 1316 3683 2721 2988 5303 4974 291 2718 209 5388 470 6068 950 4952 3090 6107 270 3127 5842 2711 740 2044 4851 135 2044 674 1904 2711 6403 2537 72 134 3772 4767 3772 2731 7123 6183 3648 6400 614 4855 594 672 5282 1319 1319 5282'\n",
            "\n",
            "'3664 3664 1254 5970 126 2401 2401 1696 1254 5970 3664 3664 381 594 1426 125 2401 1145 6890 1254 5970 1781 3664 7039 2998 682 3664 7439 4852 752 628 2731 6842 1704 7962 4852 752 4015 139 3664 7266 592 3326 6032 2044 1072 3664 6103 6709 3664 2401 5744 2441 2419 126 5745 8174 3203 3400 6171 2287 1293 209 5452 991 539 3582 3099 1444 7004 4983 8508 2401 2054 3664 3994 6629 209 2044 1375 700 4484 4621 4851 5909 8107 2401 73 2401 7959 777 6629 4952 5724 5436 7488 73 1905 8174 4851 8174 700 4484 768 546 6955 1783 7439 3664 5970 700 4484 7752 5909 6888 8508 4698 777 2401 2568 1709 4698 2001 3982 6890 7041 8508 4078 7962 6888 8174 8508 7693 8508 6888 2683 1564 1946 1704 614 4459 700 4484 5924 6279 2401 4653 8508 768 7693 5169 674 7960 777 502 3780 8508 4653 3099 7038 6060 1316 5909 2374 2610 5388 7034 4981 1472 188 3994 3422 5044 2401 6955 997 7572 5106 2401 7146 126 94 5486 8283 5044 2401 4887 126 5116 766 4466 2090 5817 7464 219 4974 2401 126 5909 993 6888 4621 470 3952 3112 7962 8508 5000 6888'\n",
            "\n",
            "'4688 3981 6858 4338 4282 2229 1394 568 5680 4282 190 6154 5523 2064 4086 2011 4688 2623 7139 4197 4086 4338 4688 7034 653 561 894 2839 4959 1704 1496 343 5282 5265 1145 125 2881 5101 3544 3775 3492 5101 4616 2468 3341 1564 4015 793 5101 4312 2897 2336 2287 5388 2166 2287 4880 7289 556 3191 2860 7266 5741 3653 126 5523 5154 470 9 3191 384 34 2054 371 4691 4032 6119 4314 5154 2054 8343 2731 3418 384 4314 1145 2568 216 645 3820 2651 4691 5101 5307 6669 3492 5101 4616 2468 3341 1564 4015 793 5101 4312 2897 5101 3147 6322 3492 5101 4616 2468 3341 1564 4015 793 5101 4312 2897'\n",
            "\n",
            "'777 5978 3631 1505 2287 4461 46 2401 7335 47 2839 5945 3816 1314 6356 2287 8082 2514 3602 3669 4466 483 3405 4466 4081 4621 474 5970 1259 4722 2437'\n",
            "\n"
          ]
        }
      ]
    },
    {
      "cell_type": "code",
      "source": [
        "# Load training and test labels\n",
        "y_train = pd.read_csv('/content/train-label.dat', sep='\\t', header=None)[0].values\n",
        "y_test = pd.read_csv('/content/test-label.dat', sep='\\t', header=None)[0].values\n",
        "\n",
        "# Convert the label strings into binary matrix representation\n",
        "y_train_bin = np.array([list(map(int, label.split())) for label in y_train])\n",
        "y_test_bin = np.array([list(map(int, label.split())) for label in y_test])"
      ],
      "metadata": {
        "id": "AS1DSxPQCWrB"
      },
      "execution_count": 7,
      "outputs": []
    },
    {
      "cell_type": "code",
      "source": [
        "popular_label = np.argmax(np.sum(y_train_bin, axis=0))\n",
        "\n",
        "# Keep only the column with the highest sum\n",
        "y_train_bin = y_train_bin[:, popular_label]\n",
        "y_test_bin = y_test_bin[:, popular_label]"
      ],
      "metadata": {
        "id": "cL2VUMpuCYqx"
      },
      "execution_count": 8,
      "outputs": []
    },
    {
      "cell_type": "markdown",
      "source": [
        "## Vectorization"
      ],
      "metadata": {
        "id": "mnr9LiihCafg"
      }
    },
    {
      "cell_type": "code",
      "source": [
        "vectorizer = CountVectorizer(min_df=0.05)\n",
        "train_vectors = vectorizer.fit_transform(preprocessed_train_data)\n",
        "test_vectors = vectorizer.transform(preprocessed_test_data)\n",
        "print(train_vectors.shape)\n",
        "print(test_vectors.shape)"
      ],
      "metadata": {
        "colab": {
          "base_uri": "https://localhost:8080/"
        },
        "id": "EQednz7cCddW",
        "outputId": "6887fb37-5d48-4ef8-edb8-fbf9496b5265"
      },
      "execution_count": 9,
      "outputs": [
        {
          "output_type": "stream",
          "name": "stdout",
          "text": [
            "(8251, 403)\n",
            "(3983, 403)\n"
          ]
        }
      ]
    },
    {
      "cell_type": "markdown",
      "source": [
        "## Train and Evaluate models"
      ],
      "metadata": {
        "id": "LHD1Ug7ACfPH"
      }
    },
    {
      "cell_type": "code",
      "source": [
        "# standarize to zero mean and unit variance\n",
        "scaler = MaxAbsScaler()\n",
        "scaler.fit(train_vectors)\n",
        "X_train = scaler.transform(train_vectors)\n",
        "X_test = scaler.transform(test_vectors)\n",
        "\n",
        "classifiers = [LogisticRegression(random_state=0),\n",
        "               RandomForestClassifier(random_state=0)]\n",
        "names = ['Logistic Regression', 'Random Forest']\n",
        "\n",
        "for name, clf in zip(names, classifiers):\n",
        "    print('classifier:', name)\n",
        "    if name == 'Logistic Regression':\n",
        "        parameters = {'C':[0.001, 0.01, 0.1, 1.0], 'solver': ['newton-cg', 'lbfgs']}\n",
        "    else:\n",
        "        parameters =  {'n_estimators':[100,200,300]}\n",
        "    grid = GridSearchCV(clf,param_grid=parameters,cv=5,scoring='f1')\n",
        "    model_grid = grid.fit(X_train, y_train_bin)\n",
        "    y_pred =  model_grid.predict(X_test)\n",
        "    print('classification report')\n",
        "    print(classification_report(y_test_bin, y_pred))\n",
        "    print('f1  score')\n",
        "    print(f1_score(y_test_bin, y_pred))\n"
      ],
      "metadata": {
        "colab": {
          "base_uri": "https://localhost:8080/"
        },
        "id": "ytT5xL3FCiUz",
        "outputId": "8f862e8b-df98-4fb9-fb51-b0588744f8a2"
      },
      "execution_count": 10,
      "outputs": [
        {
          "output_type": "stream",
          "name": "stdout",
          "text": [
            "classifier: Logistic Regression\n",
            "classification report\n",
            "              precision    recall  f1-score   support\n",
            "\n",
            "           0       0.66      0.89      0.76      2425\n",
            "           1       0.62      0.28      0.39      1558\n",
            "\n",
            "    accuracy                           0.65      3983\n",
            "   macro avg       0.64      0.59      0.57      3983\n",
            "weighted avg       0.65      0.65      0.61      3983\n",
            "\n",
            "f1  score\n",
            "0.3865248226950354\n",
            "classifier: Random Forest\n",
            "classification report\n",
            "              precision    recall  f1-score   support\n",
            "\n",
            "           0       0.67      0.88      0.76      2425\n",
            "           1       0.63      0.31      0.41      1558\n",
            "\n",
            "    accuracy                           0.66      3983\n",
            "   macro avg       0.65      0.60      0.59      3983\n",
            "weighted avg       0.65      0.66      0.62      3983\n",
            "\n",
            "f1  score\n",
            "0.413585554600172\n"
          ]
        }
      ]
    },
    {
      "cell_type": "markdown",
      "source": [
        "## Conclusions"
      ],
      "metadata": {
        "id": "CS6U4z3UCk67"
      }
    },
    {
      "cell_type": "markdown",
      "source": [
        "Based on these metrics, we can see that the Random Forest classifier outperforms the Logistic Regression model in terms of both precision and recall for both labels. It achieves a higher F1-score for label 1 (positive class), indicating better performance in capturing the positive instances. Additionally, the Random Forest model has a slightly higher accuracy.\n",
        "\n",
        "Therefore, considering the overall performance and the F1-score as the evaluation metric, the Random Forest classifier can be considered the better model among the two."
      ],
      "metadata": {
        "id": "MB5V_GZMCpu6"
      }
    }
  ]
}